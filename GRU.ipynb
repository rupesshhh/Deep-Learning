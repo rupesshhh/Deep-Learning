{
 "cells": [
  {
   "cell_type": "code",
   "execution_count": 2,
   "id": "8b99be2b-285f-4534-95c0-5e78f06b3028",
   "metadata": {},
   "outputs": [],
   "source": [
    "import numpy as np\n",
    "import tensorflow as tf\n",
    "from tensorflow.keras.datasets import imdb\n",
    "from tensorflow.keras.preprocessing.sequence import pad_sequences\n",
    "from tensorflow.keras.models import Sequential\n",
    "from tensorflow.keras.layers import Embedding, GRU, Dense"
   ]
  },
  {
   "cell_type": "code",
   "execution_count": 3,
   "id": "002d553c-68ca-46e9-b4cb-564fe7998959",
   "metadata": {},
   "outputs": [],
   "source": [
    "np.random.seed(0)\n",
    "tf.random.set_seed(0)"
   ]
  },
  {
   "cell_type": "code",
   "execution_count": 4,
   "id": "21fc35dc-170a-4ca4-a0d2-dfb6c0b0154e",
   "metadata": {},
   "outputs": [],
   "source": [
    "num_words = 10000\n",
    "max_sequence_length = 100"
   ]
  },
  {
   "cell_type": "code",
   "execution_count": 8,
   "id": "cc3a882e-9b1a-409c-8dba-7cc5e208448a",
   "metadata": {},
   "outputs": [],
   "source": [
    "(x_train, y_train), (x_test, y_test) = imdb.load_data(num_words = num_words)\n",
    "x_train = pad_sequences(x_train, maxlen = max_sequence_length)\n",
    "x_test = pad_sequences(x_test, maxlen = max_sequence_length)"
   ]
  },
  {
   "cell_type": "code",
   "execution_count": 9,
   "id": "6236ac87-bec4-49ed-82b5-364e0f32b46f",
   "metadata": {},
   "outputs": [],
   "source": [
    "model = Sequential()"
   ]
  },
  {
   "cell_type": "code",
   "execution_count": 10,
   "id": "68a129b0-ccfc-4006-9058-1c2e5c878b3a",
   "metadata": {},
   "outputs": [
    {
     "name": "stdout",
     "output_type": "stream",
     "text": [
      "Epoch 1/5\n",
      "313/313 [==============================] - 9s 23ms/step - loss: 0.4741 - accuracy: 0.7578 - val_loss: 0.3722 - val_accuracy: 0.8348\n",
      "Epoch 2/5\n",
      "313/313 [==============================] - 7s 22ms/step - loss: 0.2768 - accuracy: 0.8891 - val_loss: 0.3623 - val_accuracy: 0.8418\n",
      "Epoch 3/5\n",
      "313/313 [==============================] - 7s 22ms/step - loss: 0.2196 - accuracy: 0.9178 - val_loss: 0.3789 - val_accuracy: 0.8354\n",
      "Epoch 4/5\n",
      "313/313 [==============================] - 7s 22ms/step - loss: 0.1851 - accuracy: 0.9320 - val_loss: 0.4099 - val_accuracy: 0.8344\n",
      "Epoch 5/5\n",
      "313/313 [==============================] - 7s 24ms/step - loss: 0.1521 - accuracy: 0.9474 - val_loss: 0.4499 - val_accuracy: 0.8340\n"
     ]
    },
    {
     "data": {
      "text/plain": [
       "<keras.src.callbacks.History at 0x20b398cca10>"
      ]
     },
     "execution_count": 10,
     "metadata": {},
     "output_type": "execute_result"
    }
   ],
   "source": [
    "model.add(Embedding(input_dim = num_words, output_dim = 32, input_length = max_sequence_length))\n",
    "model.add(GRU(units = 32))\n",
    "model.add(Dense(units = 1, activation = 'sigmoid'))\n",
    "model.compile(optimizer = 'adam', loss = 'binary_crossentropy', metrics = ['accuracy'])\n",
    "model.fit(x_train, y_train, batch_size = 64, epochs = 5, validation_split = 0.2) "
   ]
  },
  {
   "cell_type": "code",
   "execution_count": 11,
   "id": "73828d69-6367-444d-9305-34e6a096672e",
   "metadata": {},
   "outputs": [
    {
     "name": "stdout",
     "output_type": "stream",
     "text": [
      "782/782 [==============================] - 3s 4ms/step - loss: 0.4601 - accuracy: 0.8298\n",
      "Test loss: 0.4601, Test accuracy: 0.8298\n"
     ]
    }
   ],
   "source": [
    "loss, accuracy = model.evaluate(x_test, y_test)\n",
    "print(f\"Test loss: {loss:.4f}, Test accuracy: {accuracy:.4f}\")"
   ]
  }
 ],
 "metadata": {
  "kernelspec": {
   "display_name": "Python 3 (ipykernel)",
   "language": "python",
   "name": "python3"
  },
  "language_info": {
   "codemirror_mode": {
    "name": "ipython",
    "version": 3
   },
   "file_extension": ".py",
   "mimetype": "text/x-python",
   "name": "python",
   "nbconvert_exporter": "python",
   "pygments_lexer": "ipython3",
   "version": "3.11.1"
  }
 },
 "nbformat": 4,
 "nbformat_minor": 5
}
